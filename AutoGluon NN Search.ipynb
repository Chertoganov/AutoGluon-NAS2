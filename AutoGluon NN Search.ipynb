{
 "cells": [
  {
   "cell_type": "code",
   "execution_count": null,
   "metadata": {},
   "outputs": [],
   "source": []
  },
  {
   "cell_type": "code",
   "execution_count": 1,
   "metadata": {},
   "outputs": [
    {
     "name": "stderr",
     "output_type": "stream",
     "text": [
      "\n",
      "Bad key \"text.kerning_factor\" on line 4 in\n",
      "/trinity/home/k.chertoganov/anaconda6/lib/python3.7/site-packages/matplotlib/mpl-data/stylelib/_classic_test_patch.mplstyle.\n",
      "You probably need to get an updated matplotlibrc file from\n",
      "https://github.com/matplotlib/matplotlib/blob/v3.1.3/matplotlibrc.template\n",
      "or from the matplotlib source distribution\n"
     ]
    }
   ],
   "source": [
    "import autogluon as ag\n",
    "import mxnet as mx\n",
    "import mxnet.gluon.nn as nn"
   ]
  },
  {
   "cell_type": "code",
   "execution_count": null,
   "metadata": {},
   "outputs": [],
   "source": []
  },
  {
   "cell_type": "code",
   "execution_count": 2,
   "metadata": {},
   "outputs": [],
   "source": [
    "class Identity(mx.gluon.HybridBlock):\n",
    "    def hybrid_forward(self, F, x):\n",
    "        return x\n",
    "\n",
    "class ConvBNReLU(mx.gluon.HybridBlock):\n",
    "    def __init__(self, in_channels, channels, kernel, stride):\n",
    "        super().__init__()\n",
    "        padding = (kernel - 1) // 2\n",
    "        self.conv = nn.Conv2D(channels, kernel, stride, padding, in_channels=in_channels)\n",
    "        self.bn = nn.BatchNorm(in_channels=channels)\n",
    "        self.relu = nn.Activation('relu')\n",
    "    def hybrid_forward(self, F, x):\n",
    "        return self.relu(self.bn(self.conv(x)))"
   ]
  },
  {
   "cell_type": "code",
   "execution_count": null,
   "metadata": {},
   "outputs": [],
   "source": []
  },
  {
   "cell_type": "code",
   "execution_count": 3,
   "metadata": {},
   "outputs": [],
   "source": [
    "from autogluon.contrib.enas import *\n",
    "\n",
    "@enas_unit()\n",
    "class ResUnit(mx.gluon.HybridBlock):\n",
    "    def __init__(self, in_channels, channels, hidden_channels, kernel, stride):\n",
    "        super().__init__()\n",
    "        self.conv1 = ConvBNReLU(in_channels, hidden_channels, kernel, stride)\n",
    "        self.conv2 = ConvBNReLU(hidden_channels, channels, kernel, 1)\n",
    "        if in_channels == channels and stride == 1:\n",
    "            self.shortcut = Identity()\n",
    "        else:\n",
    "            self.shortcut = nn.Conv2D(channels, 1, stride, in_channels=in_channels)\n",
    "    def hybrid_forward(self, F, x):\n",
    "        return self.conv2(self.conv1(x)) + self.shortcut(x)"
   ]
  },
  {
   "cell_type": "code",
   "execution_count": null,
   "metadata": {},
   "outputs": [],
   "source": []
  },
  {
   "cell_type": "code",
   "execution_count": 4,
   "metadata": {},
   "outputs": [],
   "source": [
    "mynet = ENAS_Sequential(\n",
    "    ResUnit(1, 8, hidden_channels=ag.space.Categorical(4, 8), kernel=ag.space.Categorical(3, 5), stride=2),\n",
    "    ResUnit(8, 8, hidden_channels=8, kernel=ag.space.Categorical(3, 5), stride=2),\n",
    "    ResUnit(8, 16, hidden_channels=8, kernel=ag.space.Categorical(3, 5), stride=2),\n",
    "    ResUnit(16, 16, hidden_channels=8, kernel=ag.space.Categorical(3, 5), stride=1, with_zero=True),\n",
    "    ResUnit(16, 16, hidden_channels=8, kernel=ag.space.Categorical(3, 5), stride=1, with_zero=True),\n",
    "    nn.GlobalAvgPool2D(),\n",
    "    nn.Flatten(),\n",
    "    nn.Activation('relu'),\n",
    "    nn.Dense(10, in_units=16),\n",
    ")\n",
    "\n",
    "mynet.initialize()\n",
    "\n",
    "#mynet.graph"
   ]
  },
  {
   "cell_type": "markdown",
   "metadata": {},
   "source": [
    "# Data"
   ]
  },
  {
   "cell_type": "code",
   "execution_count": 5,
   "metadata": {},
   "outputs": [],
   "source": [
    "x = mx.nd.random.uniform(shape=(1, 1, 28, 28))\n",
    "y = mynet.evaluate_latency(x)"
   ]
  },
  {
   "cell_type": "code",
   "execution_count": 6,
   "metadata": {},
   "outputs": [
    {
     "data": {
      "text/plain": [
       "\n",
       "[[[[5.67846000e-01 1.72195703e-01 6.21169269e-01 8.50760788e-02\n",
       "    4.98179555e-01 4.52728868e-01 8.66788566e-01 9.32665527e-01\n",
       "    6.27734780e-01 7.63164997e-01 4.01427954e-01 3.11486065e-01\n",
       "    4.16691750e-01 8.88615489e-01 8.10838640e-01 6.97274268e-01\n",
       "    3.48191947e-01 4.63344008e-01 2.11454794e-01 2.64619529e-01\n",
       "    5.93831837e-02 5.75533867e-01 8.76026869e-01 1.94901004e-01\n",
       "    9.18546438e-01 7.41231680e-01 1.20120175e-01 9.36927855e-01]\n",
       "   [3.34473729e-01 6.59267843e-01 1.75372064e-01 7.24994123e-01\n",
       "    1.15898475e-01 1.64488405e-01 8.99866760e-01 7.48223960e-01\n",
       "    5.68772629e-02 4.97356832e-01 9.80485678e-01 8.73826966e-02\n",
       "    9.64508578e-02 3.86447400e-01 8.63470674e-01 7.29448140e-01\n",
       "    5.66506088e-01 5.78210354e-01 3.67917478e-01 3.06382656e-01\n",
       "    3.42342377e-01 9.88749027e-01 7.57364154e-01 5.74031830e-01\n",
       "    3.14573288e-01 9.44949210e-01 6.57318890e-01 5.59774220e-01]\n",
       "   [5.17326057e-01 5.64666510e-01 4.84965652e-01 5.11704348e-02\n",
       "    9.01162148e-01 8.08278024e-01 5.91888964e-01 2.95288801e-01\n",
       "    8.82067010e-02 5.44121385e-01 8.61043155e-01 4.87921506e-01\n",
       "    7.24648908e-02 8.55356395e-01 3.28781128e-01 8.88386428e-01\n",
       "    8.10569763e-01 1.84384435e-01 9.33148623e-01 5.85348487e-01\n",
       "    2.46993348e-01 8.98205042e-01 5.54555595e-01 4.46117222e-01\n",
       "    5.60479522e-01 9.21868324e-01 4.77247655e-01 2.78990895e-01]\n",
       "   [4.49831516e-01 6.08831167e-01 9.35863495e-01 6.82453692e-01\n",
       "    3.90073389e-01 2.28205740e-01 4.68758047e-02 1.37675172e-02\n",
       "    2.55708218e-01 4.16723967e-01 4.32552338e-01 9.38481867e-01\n",
       "    2.94152558e-01 3.43028098e-01 5.41571617e-01 7.79744267e-01\n",
       "    7.60635257e-01 1.74736306e-01 9.06791866e-01 3.41952831e-01\n",
       "    7.71671116e-01 1.44597724e-01 5.64867616e-01 7.16770828e-01\n",
       "    1.71436846e-01 6.99307621e-01 4.25665379e-01 6.88497305e-01]\n",
       "   [7.49197483e-01 2.53396034e-01 3.29607986e-02 6.92360103e-01\n",
       "    4.82097626e-01 2.27297544e-01 5.21725774e-01 4.24649119e-01\n",
       "    5.37513018e-01 3.71922135e-01 3.87229115e-01 5.01217365e-01\n",
       "    2.88688362e-01 6.60410106e-01 5.32404006e-01 1.49123102e-01\n",
       "    8.16220939e-01 5.34955621e-01 8.31783593e-01 6.93185389e-01\n",
       "    2.86220223e-01 7.24988952e-02 1.77582070e-01 5.00198007e-01\n",
       "    7.23125875e-01 3.94657217e-02 4.17026520e-01 2.13241801e-01]\n",
       "   [1.81951582e-01 3.68992031e-01 6.04346931e-01 8.47606480e-01\n",
       "    1.12535462e-01 8.75681102e-01 9.55176055e-02 4.68470855e-04\n",
       "    1.20511968e-02 4.09984320e-01 2.07086653e-01 8.89430583e-01\n",
       "    4.79008257e-01 5.85167766e-01 1.62309602e-01 7.46897757e-01\n",
       "    6.86875507e-02 5.87851226e-01 4.92511481e-01 4.27534550e-01\n",
       "    9.03145432e-01 5.33218205e-01 1.15008876e-02 9.56540048e-01\n",
       "    2.28078187e-01 8.78180146e-01 9.01320100e-01 6.61060870e-01]\n",
       "   [6.34238780e-01 5.03271937e-01 8.30473065e-01 9.61353779e-02\n",
       "    9.09309447e-01 9.17164683e-01 2.18746811e-01 1.47214457e-01\n",
       "    7.39534616e-01 1.77019224e-01 2.61016428e-01 9.83766019e-02\n",
       "    9.38431025e-01 2.42767870e-01 9.57149506e-01 3.72594446e-01\n",
       "    6.49130821e-01 9.85696673e-01 8.62418592e-01 4.51837294e-03\n",
       "    1.11744866e-01 6.49265587e-01 7.07661390e-01 5.08661270e-01\n",
       "    2.19940186e-01 1.55934423e-01 3.17962885e-01 6.41678154e-01]\n",
       "   [8.39729607e-01 8.07858169e-01 4.15449366e-02 7.66981661e-01\n",
       "    7.96884596e-01 7.76254162e-02 8.23039174e-01 7.95099437e-01\n",
       "    3.51503372e-01 3.45907301e-01 6.22147501e-01 8.52596760e-01\n",
       "    5.07668376e-01 5.62095284e-01 2.57765651e-01 7.99323991e-02\n",
       "    7.82977760e-01 7.44750619e-01 1.81145929e-02 5.63594401e-01\n",
       "    5.37878752e-01 4.51427370e-01 9.60915744e-01 6.38458431e-01\n",
       "    5.93427658e-01 4.43708062e-01 3.20024371e-01 3.69253047e-02]\n",
       "   [2.02339008e-01 9.12704468e-01 9.64550972e-01 2.87805378e-01\n",
       "    5.71865737e-01 2.79344052e-01 9.27090459e-03 4.97241654e-02\n",
       "    1.75656751e-01 7.17395306e-01 3.79016101e-01 9.09454107e-01\n",
       "    4.49536800e-01 4.62954253e-01 3.60387146e-01 8.14124227e-01\n",
       "    9.22376513e-01 3.28815222e-01 3.11679840e-01 3.84735227e-01\n",
       "    8.52894425e-01 6.66946769e-01 1.45929670e-02 5.36480248e-01\n",
       "    1.25486597e-01 6.48092866e-01 1.96045935e-01 2.50662863e-02]\n",
       "   [2.30484121e-02 2.26862282e-01 6.35567605e-01 5.33999503e-01\n",
       "    1.65035538e-02 6.13854349e-01 2.73431391e-01 1.32366866e-01\n",
       "    5.56887627e-01 6.49521589e-01 6.71852469e-01 1.43907309e-01\n",
       "    1.21913597e-01 2.10231230e-01 5.39021075e-01 4.58197623e-01\n",
       "    7.09477961e-01 7.00277150e-01 4.61357683e-02 7.07571507e-01\n",
       "    4.63205189e-01 5.26396394e-01 3.70083451e-01 4.66986001e-01\n",
       "    7.21876472e-02 5.90241790e-01 5.81168175e-01 7.57622719e-01]\n",
       "   [7.72555694e-02 6.01870455e-02 6.84657574e-01 8.61293197e-01\n",
       "    5.03168821e-01 2.30774209e-01 8.64142835e-01 6.31652534e-01\n",
       "    4.78194118e-01 6.72447205e-01 8.52574944e-01 7.50162482e-01\n",
       "    3.57665122e-01 9.34828997e-01 4.77709234e-01 2.97019124e-01\n",
       "    6.02082193e-01 6.24813549e-02 6.91195667e-01 5.46188772e-01\n",
       "    3.05406630e-01 1.75185993e-01 4.88980748e-02 2.25235283e-01\n",
       "    6.99004054e-01 9.48577702e-01 7.04777315e-02 2.77767837e-01]\n",
       "   [9.43096042e-01 6.76238537e-01 9.02972341e-01 3.54365349e-01\n",
       "    8.40458333e-01 6.83489740e-01 3.42285454e-01 6.19878292e-01\n",
       "    8.58998418e-01 7.72992492e-01 1.35290816e-01 6.26250744e-01\n",
       "    3.56110521e-02 4.56100553e-01 9.62726772e-01 4.50572014e-01\n",
       "    1.06507160e-01 1.56359509e-01 6.43353641e-01 1.17558114e-01\n",
       "    5.54030854e-03 1.54745981e-01 4.85395551e-01 9.29533303e-01\n",
       "    9.24180150e-01 6.70457959e-01 3.87757391e-01 9.04861033e-01]\n",
       "   [1.32753840e-02 6.14694953e-01 9.32181418e-01 2.12812126e-01\n",
       "    8.44914377e-01 1.25086764e-02 4.10626203e-01 5.33678651e-01\n",
       "    7.45581865e-01 9.72995341e-01 3.37157071e-01 7.93697774e-01\n",
       "    5.56943119e-01 6.89255893e-02 1.89312249e-01 3.63922715e-01\n",
       "    7.73076475e-01 1.33394659e-01 7.14584947e-01 2.70418108e-01\n",
       "    4.75170463e-01 6.77619457e-01 2.10370928e-01 3.25647295e-01\n",
       "    1.99691653e-01 5.09447277e-01 3.05074058e-03 2.89250106e-01]\n",
       "   [2.77717728e-02 4.09682423e-01 2.44910672e-01 6.24683917e-01\n",
       "    7.48065412e-01 9.28474486e-01 6.11042976e-01 5.91146171e-01\n",
       "    3.44883740e-01 3.61357182e-01 6.31230474e-01 4.56515938e-01\n",
       "    1.79327372e-02 5.92995286e-01 7.64457464e-01 1.28359705e-01\n",
       "    1.71972588e-01 8.06992888e-01 6.12406492e-01 8.68084967e-01\n",
       "    1.17606789e-01 1.34502068e-01 5.70396066e-01 1.75299972e-01\n",
       "    7.33655930e-01 2.05746993e-01 7.96582401e-01 5.80133915e-01]\n",
       "   [1.36259019e-01 7.40567803e-01 4.76841688e-01 6.06163979e-01\n",
       "    4.11036730e-01 5.85286200e-01 3.99088562e-01 5.69556057e-01\n",
       "    8.30664933e-01 9.10690963e-01 1.87714815e-01 1.13933258e-01\n",
       "    7.61516869e-01 5.29774547e-01 7.35794842e-01 5.36340103e-02\n",
       "    4.22432929e-01 1.69509202e-01 1.37046367e-01 7.88046718e-01\n",
       "    7.04481721e-01 1.03517875e-01 8.75048280e-01 5.50380945e-01\n",
       "    1.75864100e-01 5.13164341e-01 1.17561698e-01 9.24343050e-01]\n",
       "   [2.10604236e-01 2.50578970e-01 4.43477988e-01 5.88794768e-01\n",
       "    4.60474849e-01 8.54096591e-01 7.56932914e-01 5.06655037e-01\n",
       "    3.18514347e-01 3.55245918e-01 8.31569314e-01 2.92165369e-01\n",
       "    9.47763860e-01 7.72237122e-01 6.97937250e-01 6.83467090e-01\n",
       "    4.83507514e-01 8.39371532e-02 2.56418437e-01 5.48103392e-01\n",
       "    5.42928278e-02 7.97844648e-01 7.40494728e-02 9.09684360e-01\n",
       "    9.73107457e-01 1.84918288e-04 4.12062466e-01 8.07550073e-01]\n",
       "   [4.91784334e-01 4.32479233e-02 5.91312647e-01 6.82120562e-01\n",
       "    5.24748743e-01 5.98007083e-01 7.79839873e-01 9.52016294e-01\n",
       "    7.63436258e-01 6.31879091e-01 1.31181598e-01 6.99390694e-02\n",
       "    2.79811561e-01 6.70397997e-01 1.53928995e-01 2.54920423e-01\n",
       "    1.43398181e-01 8.31943989e-01 6.35479867e-01 3.14620920e-02\n",
       "    2.25932941e-01 3.24135810e-01 8.30025733e-01 6.76435888e-01\n",
       "    8.88123631e-01 1.55634806e-01 2.72522688e-01 6.46272004e-01]\n",
       "   [7.52295315e-01 6.97224796e-01 2.69680947e-01 7.33777642e-01\n",
       "    4.85956334e-02 8.75335217e-01 7.28961110e-01 4.13166106e-01\n",
       "    3.83081019e-01 1.42482966e-01 9.80678558e-01 2.60310918e-01\n",
       "    9.51934993e-01 2.02117071e-01 5.57923019e-01 8.72109234e-02\n",
       "    5.93800068e-01 2.18774423e-01 4.34346646e-01 4.74181145e-01\n",
       "    2.95780629e-01 3.16464216e-01 6.97670341e-01 6.97821558e-01\n",
       "    4.66004819e-01 9.05836880e-01 3.75865065e-02 5.44902682e-01]\n",
       "   [2.34403923e-01 2.00479403e-01 9.73135471e-01 4.44103211e-01\n",
       "    7.39968419e-01 6.86640143e-01 5.76814413e-01 3.51846993e-01\n",
       "    2.83273697e-01 4.81303453e-01 8.11616629e-02 8.59374702e-01\n",
       "    6.61273122e-01 7.30031073e-01 3.38590711e-01 7.89236501e-02\n",
       "    8.78247738e-01 4.70050760e-02 9.54193652e-01 9.36019421e-01\n",
       "    7.80889988e-01 7.57468104e-01 3.89736861e-01 9.10669267e-01\n",
       "    3.52101088e-01 1.62981048e-01 3.82236809e-01 6.96680188e-01]\n",
       "   [7.60718822e-01 5.75992286e-01 5.32302916e-01 3.65175039e-01\n",
       "    8.15104485e-01 1.64467081e-01 4.22098130e-01 3.75006497e-01\n",
       "    4.16247129e-01 5.15796006e-01 7.50233591e-01 1.69633910e-01\n",
       "    5.66189051e-01 9.63294148e-01 3.59838828e-02 8.59568000e-01\n",
       "    3.70745808e-01 4.78145301e-01 2.54980117e-01 7.48794794e-01\n",
       "    2.62469739e-01 1.68434121e-02 2.61521451e-02 4.29320991e-01\n",
       "    2.03168631e-01 8.02675903e-01 7.25147307e-01 1.48089901e-01]\n",
       "   [6.80325449e-01 7.56434739e-01 1.14188686e-01 3.48695964e-01\n",
       "    7.47697175e-01 4.30799760e-02 5.63733459e-01 7.24491000e-01\n",
       "    1.84677482e-01 8.57638180e-01 4.91262749e-02 9.77066994e-01\n",
       "    7.82007337e-01 1.51995882e-01 3.87726724e-01 5.91511846e-01\n",
       "    9.63450611e-01 2.72339344e-01 9.66876864e-01 8.83790016e-01\n",
       "    6.97911561e-01 9.14122388e-02 8.95469010e-01 1.81140631e-01\n",
       "    5.06262600e-01 7.83153623e-02 1.74610466e-02 2.96474040e-01]\n",
       "   [8.15557659e-01 9.53001201e-01 2.25908697e-01 3.67158413e-01\n",
       "    5.02576053e-01 5.61005712e-01 3.35680932e-01 3.96244913e-01\n",
       "    9.00027871e-01 9.80598152e-01 3.28444988e-01 7.15338707e-01\n",
       "    7.94716239e-01 8.41703713e-01 2.37888709e-01 1.27467930e-01\n",
       "    1.59185380e-02 9.36820805e-01 3.47990304e-01 2.74521291e-01\n",
       "    4.21327621e-01 6.87598169e-01 3.53784561e-01 1.42853767e-01\n",
       "    2.36353397e-01 7.12021589e-01 8.98116380e-02 1.43022195e-01]\n",
       "   [1.94478169e-01 7.03091919e-01 6.15807891e-01 9.16281581e-01\n",
       "    9.32083666e-01 2.40238085e-01 6.91083968e-01 5.97155094e-01\n",
       "    5.62847018e-01 8.20155203e-01 2.63755798e-01 6.07104242e-01\n",
       "    5.27146876e-01 6.74666822e-01 8.04382920e-01 2.54271090e-01\n",
       "    2.95075893e-01 6.76321909e-02 1.83338553e-01 7.10909367e-01\n",
       "    1.97324529e-02 8.82830620e-01 7.43321240e-01 9.29516554e-01\n",
       "    3.82933989e-02 7.07208693e-01 4.33679670e-01 8.49462032e-01]\n",
       "   [8.32084775e-01 1.66819423e-01 1.34585584e-02 1.43992573e-01\n",
       "    5.09335399e-01 3.90181728e-02 4.79548693e-01 9.98312235e-01\n",
       "    2.96549387e-02 7.77845621e-01 1.14285210e-02 9.04713213e-01\n",
       "    3.31844002e-01 7.61905313e-01 6.14310801e-02 7.98992097e-01\n",
       "    5.98173499e-01 2.01129690e-01 8.85920227e-01 6.16990507e-01\n",
       "    4.12133783e-01 9.61410522e-01 3.82722020e-02 5.82216799e-01\n",
       "    8.08424056e-02 7.62860537e-01 8.19145367e-02 3.52377772e-01]\n",
       "   [7.34311879e-01 5.50892711e-01 6.09811187e-01 7.69362986e-01\n",
       "    1.40488476e-01 8.61842394e-01 5.74969769e-01 2.55980104e-01\n",
       "    7.96276212e-01 9.52350259e-01 6.96634710e-01 4.34852272e-01\n",
       "    2.35712826e-01 1.30970687e-01 5.20397604e-01 1.58978686e-01\n",
       "    3.77065718e-01 4.37367529e-01 6.24834299e-01 8.11835885e-01\n",
       "    1.22989252e-01 6.89842775e-02 5.96503556e-01 2.17505336e-01\n",
       "    3.86226252e-02 8.01739335e-01 5.06784976e-01 8.23365331e-01]\n",
       "   [8.10326457e-01 2.00025171e-01 1.92186847e-01 5.62281050e-02\n",
       "    3.46931040e-01 6.54033244e-01 1.16387539e-01 7.93942332e-01\n",
       "    1.91108864e-02 4.97684032e-02 9.35297191e-01 5.22609532e-01\n",
       "    5.77825606e-01 1.41826943e-01 4.08425152e-01 6.00863159e-01\n",
       "    7.80710757e-01 1.12441577e-01 4.89246666e-01 1.31784871e-01\n",
       "    7.74765730e-01 5.40550351e-01 4.29578722e-01 9.46995437e-01\n",
       "    3.23763788e-01 2.86054052e-02 9.22348022e-01 9.94003639e-02]\n",
       "   [7.45384991e-01 2.01959461e-01 4.54619080e-01 8.14693093e-01\n",
       "    1.98867977e-01 9.68422532e-01 7.65619993e-01 3.30471635e-01\n",
       "    6.56673461e-02 8.76413167e-01 9.55858380e-02 8.59543502e-01\n",
       "    2.74991542e-02 6.81356564e-02 8.01688135e-01 6.60741508e-01\n",
       "    3.53426188e-01 3.85332406e-01 2.06287995e-01 3.81319314e-01\n",
       "    2.55420012e-03 4.48285848e-01 2.67863274e-01 3.65496755e-01\n",
       "    1.42371789e-01 6.17806077e-01 8.74587476e-01 3.61815840e-01]\n",
       "   [1.11785747e-01 7.21813560e-01 7.65228748e-01 3.09164375e-01\n",
       "    5.16901731e-01 4.01540339e-01 3.93299833e-02 1.25482485e-01\n",
       "    1.99157476e-01 8.40018332e-01 3.42959732e-01 7.33749151e-01\n",
       "    3.64717960e-01 2.88475811e-01 2.97071159e-01 5.15806615e-01\n",
       "    6.42068863e-01 6.88147902e-01 9.20497850e-02 8.07133973e-01\n",
       "    8.28507692e-02 4.78230983e-01 5.39119840e-01 7.93381333e-01\n",
       "    3.09642106e-01 6.71009481e-01 6.71638548e-01 9.51992869e-01]]]]\n",
       "<NDArray 1x1x28x28 @cpu(0)>"
      ]
     },
     "execution_count": 6,
     "metadata": {},
     "output_type": "execute_result"
    }
   ],
   "source": [
    "x"
   ]
  },
  {
   "cell_type": "code",
   "execution_count": 7,
   "metadata": {},
   "outputs": [
    {
     "data": {
      "text/plain": [
       "\n",
       "[[ 1.1093837e-04  8.0205886e-05  2.9831970e-04 -1.1762418e-04\n",
       "  -4.2643114e-05 -3.0894258e-05 -1.4834681e-04  1.1237406e-04\n",
       "   1.1552517e-04 -3.8411064e-05]]\n",
       "<NDArray 1x10 @cpu(0)>"
      ]
     },
     "execution_count": 7,
     "metadata": {},
     "output_type": "execute_result"
    }
   ],
   "source": [
    "y"
   ]
  },
  {
   "cell_type": "code",
   "execution_count": 8,
   "metadata": {},
   "outputs": [
    {
     "name": "stdout",
     "output_type": "stream",
     "text": [
      "Average latency is 1.98 ms, latency of the current architecture is 2.18 ms\n"
     ]
    }
   ],
   "source": [
    "print('Average latency is {:.2f} ms, latency of the current architecture is {:.2f} ms'.format(mynet.avg_latency, mynet.latency))"
   ]
  },
  {
   "cell_type": "code",
   "execution_count": 9,
   "metadata": {},
   "outputs": [
    {
     "data": {
      "text/plain": [
       "8714"
      ]
     },
     "execution_count": 9,
     "metadata": {},
     "output_type": "execute_result"
    }
   ],
   "source": [
    "mynet.nparams"
   ]
  },
  {
   "cell_type": "code",
   "execution_count": 10,
   "metadata": {},
   "outputs": [],
   "source": [
    "reward_fn = lambda metric, net: metric * ((net.avg_latency / net.latency) ** 0.1)"
   ]
  },
  {
   "cell_type": "markdown",
   "metadata": {},
   "source": [
    "# Start Training"
   ]
  },
  {
   "cell_type": "code",
   "execution_count": 11,
   "metadata": {},
   "outputs": [
    {
     "name": "stderr",
     "output_type": "stream",
     "text": [
      "get_built_in_dataset mnist\n"
     ]
    },
    {
     "name": "stdout",
     "output_type": "stream",
     "text": [
      "Downloading /trinity/home/k.chertoganov/.mxnet/datasets/mnist/train-images-idx3-ubyte.gz from https://apache-mxnet.s3-accelerate.dualstack.amazonaws.com/gluon/dataset/mnist/train-images-idx3-ubyte.gz...\n",
      "Downloading /trinity/home/k.chertoganov/.mxnet/datasets/mnist/train-labels-idx1-ubyte.gz from https://apache-mxnet.s3-accelerate.dualstack.amazonaws.com/gluon/dataset/mnist/train-labels-idx1-ubyte.gz...\n"
     ]
    },
    {
     "name": "stderr",
     "output_type": "stream",
     "text": [
      "get_built_in_dataset mnist\n"
     ]
    },
    {
     "name": "stdout",
     "output_type": "stream",
     "text": [
      "Downloading /trinity/home/k.chertoganov/.mxnet/datasets/mnist/t10k-images-idx3-ubyte.gz from https://apache-mxnet.s3-accelerate.dualstack.amazonaws.com/gluon/dataset/mnist/t10k-images-idx3-ubyte.gz...\n",
      "Downloading /trinity/home/k.chertoganov/.mxnet/datasets/mnist/t10k-labels-idx1-ubyte.gz from https://apache-mxnet.s3-accelerate.dualstack.amazonaws.com/gluon/dataset/mnist/t10k-labels-idx1-ubyte.gz...\n"
     ]
    }
   ],
   "source": [
    "scheduler = ENAS_Scheduler(mynet, train_set='mnist',\n",
    "                           reward_fn=reward_fn, batch_size=128, num_gpus=1,\n",
    "                           warmup_epochs=0, epochs=1, controller_lr=3e-3,\n",
    "                           plot_frequency=10, update_arch_frequency=5)"
   ]
  },
  {
   "cell_type": "code",
   "execution_count": 12,
   "metadata": {},
   "outputs": [
    {
     "data": {
      "text/plain": [
       "<autogluon.contrib.enas.enas_scheduler.ENAS_Scheduler at 0x15548ed9bed0>"
      ]
     },
     "execution_count": 12,
     "metadata": {},
     "output_type": "execute_result"
    }
   ],
   "source": [
    "scheduler"
   ]
  },
  {
   "cell_type": "code",
   "execution_count": 13,
   "metadata": {},
   "outputs": [
    {
     "data": {
      "application/vnd.jupyter.widget-view+json": {
       "model_id": "c6b2825a30374802a9fee439617c6f77",
       "version_major": 2,
       "version_minor": 0
      },
      "text/plain": [
       "VBox(children=(HBox(children=(IntProgress(value=0, max=1), HTML(value=''))), HTML(value='')))"
      ]
     },
     "metadata": {},
     "output_type": "display_data"
    },
    {
     "data": {
      "application/vnd.jupyter.widget-view+json": {
       "model_id": "007e1ca9c8bb4adcba42cda2ea078c11",
       "version_major": 2,
       "version_minor": 0
      },
      "text/plain": [
       "VBox(children=(HBox(children=(IntProgress(value=0, max=468), HTML(value=''))), HTML(value='')))"
      ]
     },
     "metadata": {},
     "output_type": "display_data"
    },
    {
     "name": "stdout",
     "output_type": "stream",
     "text": [
      "\n"
     ]
    },
    {
     "data": {
      "application/vnd.jupyter.widget-view+json": {
       "model_id": "c3cda49dd9ef4ba7b77d24090f2426f6",
       "version_major": 2,
       "version_minor": 0
      },
      "text/plain": [
       "VBox(children=(HBox(children=(IntProgress(value=0, max=79), HTML(value=''))), HTML(value='')))"
      ]
     },
     "metadata": {},
     "output_type": "display_data"
    },
    {
     "name": "stdout",
     "output_type": "stream",
     "text": [
      "\n",
      "\n"
     ]
    }
   ],
   "source": [
    "scheduler.run()"
   ]
  },
  {
   "cell_type": "markdown",
   "metadata": {},
   "source": [
    "# The resulting architecture is"
   ]
  },
  {
   "cell_type": "code",
   "execution_count": 14,
   "metadata": {},
   "outputs": [
    {
     "data": {
      "image/svg+xml": [
       "<?xml version=\"1.0\" encoding=\"UTF-8\" standalone=\"no\"?>\n",
       "<!DOCTYPE svg PUBLIC \"-//W3C//DTD SVG 1.1//EN\"\n",
       " \"http://www.w3.org/Graphics/SVG/1.1/DTD/svg11.dtd\">\n",
       "<!-- Generated by graphviz version 2.40.1 (20161225.0304)\n",
       " -->\n",
       "<!-- Title: %3 Pages: 1 -->\n",
       "<svg width=\"158pt\" height=\"476pt\"\n",
       " viewBox=\"0.00 0.00 158.00 476.00\" xmlns=\"http://www.w3.org/2000/svg\" xmlns:xlink=\"http://www.w3.org/1999/xlink\">\n",
       "<g id=\"graph0\" class=\"graph\" transform=\"scale(1 1) rotate(0) translate(4 472)\">\n",
       "<title>%3</title>\n",
       "<polygon fill=\"#ffffff\" stroke=\"transparent\" points=\"-4,4 -4,-472 154,-472 154,4 -4,4\"/>\n",
       "<!-- 0 -->\n",
       "<g id=\"node1\" class=\"node\">\n",
       "<title>0</title>\n",
       "<polygon fill=\"#fdb462\" stroke=\"#b2dfee\" points=\"150,-468 0,-468 0,-432 150,-432 150,-468\"/>\n",
       "<text text-anchor=\"middle\" x=\"75\" y=\"-446.3\" font-family=\"Times,serif\" font-size=\"14.00\" fill=\"#000000\">ResUnit(H8.K5.S2.)</text>\n",
       "</g>\n",
       "<!-- 1 -->\n",
       "<g id=\"node2\" class=\"node\">\n",
       "<title>1</title>\n",
       "<polygon fill=\"#fdb462\" stroke=\"#b2dfee\" points=\"150,-396 0,-396 0,-360 150,-360 150,-396\"/>\n",
       "<text text-anchor=\"middle\" x=\"75\" y=\"-374.3\" font-family=\"Times,serif\" font-size=\"14.00\" fill=\"#000000\">ResUnit(K5.H8.S2.)</text>\n",
       "</g>\n",
       "<!-- 0&#45;&gt;1 -->\n",
       "<g id=\"edge1\" class=\"edge\">\n",
       "<title>0&#45;&gt;1</title>\n",
       "<path fill=\"none\" stroke=\"#000000\" d=\"M75,-431.8314C75,-424.131 75,-414.9743 75,-406.4166\"/>\n",
       "<polygon fill=\"#000000\" stroke=\"#000000\" points=\"78.5001,-406.4132 75,-396.4133 71.5001,-406.4133 78.5001,-406.4132\"/>\n",
       "</g>\n",
       "<!-- 2 -->\n",
       "<g id=\"node3\" class=\"node\">\n",
       "<title>2</title>\n",
       "<polygon fill=\"#fdb462\" stroke=\"#b2dfee\" points=\"150,-324 0,-324 0,-288 150,-288 150,-324\"/>\n",
       "<text text-anchor=\"middle\" x=\"75\" y=\"-302.3\" font-family=\"Times,serif\" font-size=\"14.00\" fill=\"#000000\">ResUnit(K5.H8.S2.)</text>\n",
       "</g>\n",
       "<!-- 1&#45;&gt;2 -->\n",
       "<g id=\"edge2\" class=\"edge\">\n",
       "<title>1&#45;&gt;2</title>\n",
       "<path fill=\"none\" stroke=\"#000000\" d=\"M75,-359.8314C75,-352.131 75,-342.9743 75,-334.4166\"/>\n",
       "<polygon fill=\"#000000\" stroke=\"#000000\" points=\"78.5001,-334.4132 75,-324.4133 71.5001,-334.4133 78.5001,-334.4132\"/>\n",
       "</g>\n",
       "<!-- 5 -->\n",
       "<g id=\"node4\" class=\"node\">\n",
       "<title>5</title>\n",
       "<polygon fill=\"#b2dfee\" stroke=\"#b2dfee\" points=\"144,-252 6,-252 6,-216 144,-216 144,-252\"/>\n",
       "<text text-anchor=\"middle\" x=\"75\" y=\"-230.3\" font-family=\"Times,serif\" font-size=\"14.00\" fill=\"#000000\">GlobalAvgPool2D</text>\n",
       "</g>\n",
       "<!-- 2&#45;&gt;5 -->\n",
       "<g id=\"edge3\" class=\"edge\">\n",
       "<title>2&#45;&gt;5</title>\n",
       "<path fill=\"none\" stroke=\"#000000\" d=\"M75,-287.8314C75,-280.131 75,-270.9743 75,-262.4166\"/>\n",
       "<polygon fill=\"#000000\" stroke=\"#000000\" points=\"78.5001,-262.4132 75,-252.4133 71.5001,-262.4133 78.5001,-262.4132\"/>\n",
       "</g>\n",
       "<!-- 6 -->\n",
       "<g id=\"node5\" class=\"node\">\n",
       "<title>6</title>\n",
       "<polygon fill=\"#b2dfee\" stroke=\"#b2dfee\" points=\"108,-180 42,-180 42,-144 108,-144 108,-180\"/>\n",
       "<text text-anchor=\"middle\" x=\"75\" y=\"-158.3\" font-family=\"Times,serif\" font-size=\"14.00\" fill=\"#000000\">Flatten</text>\n",
       "</g>\n",
       "<!-- 5&#45;&gt;6 -->\n",
       "<g id=\"edge4\" class=\"edge\">\n",
       "<title>5&#45;&gt;6</title>\n",
       "<path fill=\"none\" stroke=\"#000000\" d=\"M75,-215.8314C75,-208.131 75,-198.9743 75,-190.4166\"/>\n",
       "<polygon fill=\"#000000\" stroke=\"#000000\" points=\"78.5001,-190.4132 75,-180.4133 71.5001,-190.4133 78.5001,-190.4132\"/>\n",
       "</g>\n",
       "<!-- 7 -->\n",
       "<g id=\"node6\" class=\"node\">\n",
       "<title>7</title>\n",
       "<polygon fill=\"#b2dfee\" stroke=\"#b2dfee\" points=\"118.5,-108 31.5,-108 31.5,-72 118.5,-72 118.5,-108\"/>\n",
       "<text text-anchor=\"middle\" x=\"75\" y=\"-86.3\" font-family=\"Times,serif\" font-size=\"14.00\" fill=\"#000000\">Activation</text>\n",
       "</g>\n",
       "<!-- 6&#45;&gt;7 -->\n",
       "<g id=\"edge5\" class=\"edge\">\n",
       "<title>6&#45;&gt;7</title>\n",
       "<path fill=\"none\" stroke=\"#000000\" d=\"M75,-143.8314C75,-136.131 75,-126.9743 75,-118.4166\"/>\n",
       "<polygon fill=\"#000000\" stroke=\"#000000\" points=\"78.5001,-118.4132 75,-108.4133 71.5001,-118.4133 78.5001,-118.4132\"/>\n",
       "</g>\n",
       "<!-- 8 -->\n",
       "<g id=\"node7\" class=\"node\">\n",
       "<title>8</title>\n",
       "<polygon fill=\"#b2dfee\" stroke=\"#b2dfee\" points=\"106,-36 44,-36 44,0 106,0 106,-36\"/>\n",
       "<text text-anchor=\"middle\" x=\"75\" y=\"-14.3\" font-family=\"Times,serif\" font-size=\"14.00\" fill=\"#000000\">Dense</text>\n",
       "</g>\n",
       "<!-- 7&#45;&gt;8 -->\n",
       "<g id=\"edge6\" class=\"edge\">\n",
       "<title>7&#45;&gt;8</title>\n",
       "<path fill=\"none\" stroke=\"#000000\" d=\"M75,-71.8314C75,-64.131 75,-54.9743 75,-46.4166\"/>\n",
       "<polygon fill=\"#000000\" stroke=\"#000000\" points=\"78.5001,-46.4132 75,-36.4133 71.5001,-46.4133 78.5001,-46.4132\"/>\n",
       "</g>\n",
       "</g>\n",
       "</svg>\n"
      ],
      "text/plain": [
       "<graphviz.dot.Digraph at 0x15548c048b10>"
      ]
     },
     "execution_count": 14,
     "metadata": {},
     "output_type": "execute_result"
    }
   ],
   "source": [
    "mynet.graph"
   ]
  },
  {
   "cell_type": "code",
   "execution_count": null,
   "metadata": {},
   "outputs": [],
   "source": []
  },
  {
   "cell_type": "code",
   "execution_count": 15,
   "metadata": {},
   "outputs": [
    {
     "name": "stderr",
     "output_type": "stream",
     "text": [
      "get_built_in_dataset mnist\n",
      "get_built_in_dataset mnist\n"
     ]
    },
    {
     "data": {
      "application/vnd.jupyter.widget-view+json": {
       "model_id": "beb924830516484e974ada4aa3b4f859",
       "version_major": 2,
       "version_minor": 0
      },
      "text/plain": [
       "VBox(children=(HBox(children=(IntProgress(value=0, max=1), HTML(value=''))), HTML(value='')))"
      ]
     },
     "metadata": {},
     "output_type": "display_data"
    },
    {
     "data": {
      "application/vnd.jupyter.widget-view+json": {
       "model_id": "fd349765d32142e49306af60449c0059",
       "version_major": 2,
       "version_minor": 0
      },
      "text/plain": [
       "VBox(children=(HBox(children=(IntProgress(value=0, max=468), HTML(value=''))), HTML(value='')))"
      ]
     },
     "metadata": {},
     "output_type": "display_data"
    },
    {
     "name": "stdout",
     "output_type": "stream",
     "text": [
      "\n"
     ]
    },
    {
     "data": {
      "application/vnd.jupyter.widget-view+json": {
       "model_id": "63274e66a9e54e638e8632bf9373e4ed",
       "version_major": 2,
       "version_minor": 0
      },
      "text/plain": [
       "VBox(children=(HBox(children=(IntProgress(value=0, max=79), HTML(value=''))), HTML(value='')))"
      ]
     },
     "metadata": {},
     "output_type": "display_data"
    },
    {
     "name": "stdout",
     "output_type": "stream",
     "text": [
      "\n",
      "\n"
     ]
    }
   ],
   "source": [
    "reward_fn = lambda metric, net: metric * ((net.avg_latency / net.latency) ** 0.8)\n",
    "mynet.initialize(force_reinit=True)\n",
    "scheduler = ENAS_Scheduler(mynet, train_set='mnist',\n",
    "                           reward_fn=reward_fn, batch_size=128, num_gpus=1,\n",
    "                           warmup_epochs=0, epochs=1, controller_lr=3e-3,\n",
    "                           plot_frequency=10, update_arch_frequency=5)\n",
    "scheduler.run()"
   ]
  },
  {
   "cell_type": "code",
   "execution_count": null,
   "metadata": {},
   "outputs": [],
   "source": []
  },
  {
   "cell_type": "code",
   "execution_count": 16,
   "metadata": {},
   "outputs": [
    {
     "data": {
      "image/svg+xml": [
       "<?xml version=\"1.0\" encoding=\"UTF-8\" standalone=\"no\"?>\n",
       "<!DOCTYPE svg PUBLIC \"-//W3C//DTD SVG 1.1//EN\"\n",
       " \"http://www.w3.org/Graphics/SVG/1.1/DTD/svg11.dtd\">\n",
       "<!-- Generated by graphviz version 2.40.1 (20161225.0304)\n",
       " -->\n",
       "<!-- Title: %3 Pages: 1 -->\n",
       "<svg width=\"158pt\" height=\"476pt\"\n",
       " viewBox=\"0.00 0.00 158.00 476.00\" xmlns=\"http://www.w3.org/2000/svg\" xmlns:xlink=\"http://www.w3.org/1999/xlink\">\n",
       "<g id=\"graph0\" class=\"graph\" transform=\"scale(1 1) rotate(0) translate(4 472)\">\n",
       "<title>%3</title>\n",
       "<polygon fill=\"#ffffff\" stroke=\"transparent\" points=\"-4,4 -4,-472 154,-472 154,4 -4,4\"/>\n",
       "<!-- 0 -->\n",
       "<g id=\"node1\" class=\"node\">\n",
       "<title>0</title>\n",
       "<polygon fill=\"#bebada\" stroke=\"#b2dfee\" points=\"150,-468 0,-468 0,-432 150,-432 150,-468\"/>\n",
       "<text text-anchor=\"middle\" x=\"75\" y=\"-446.3\" font-family=\"Times,serif\" font-size=\"14.00\" fill=\"#000000\">ResUnit(H8.K3.S2.)</text>\n",
       "</g>\n",
       "<!-- 1 -->\n",
       "<g id=\"node2\" class=\"node\">\n",
       "<title>1</title>\n",
       "<polygon fill=\"#bebada\" stroke=\"#b2dfee\" points=\"150,-396 0,-396 0,-360 150,-360 150,-396\"/>\n",
       "<text text-anchor=\"middle\" x=\"75\" y=\"-374.3\" font-family=\"Times,serif\" font-size=\"14.00\" fill=\"#000000\">ResUnit(K3.H8.S2.)</text>\n",
       "</g>\n",
       "<!-- 0&#45;&gt;1 -->\n",
       "<g id=\"edge1\" class=\"edge\">\n",
       "<title>0&#45;&gt;1</title>\n",
       "<path fill=\"none\" stroke=\"#000000\" d=\"M75,-431.8314C75,-424.131 75,-414.9743 75,-406.4166\"/>\n",
       "<polygon fill=\"#000000\" stroke=\"#000000\" points=\"78.5001,-406.4132 75,-396.4133 71.5001,-406.4133 78.5001,-406.4132\"/>\n",
       "</g>\n",
       "<!-- 2 -->\n",
       "<g id=\"node3\" class=\"node\">\n",
       "<title>2</title>\n",
       "<polygon fill=\"#bebada\" stroke=\"#b2dfee\" points=\"150,-324 0,-324 0,-288 150,-288 150,-324\"/>\n",
       "<text text-anchor=\"middle\" x=\"75\" y=\"-302.3\" font-family=\"Times,serif\" font-size=\"14.00\" fill=\"#000000\">ResUnit(K3.H8.S2.)</text>\n",
       "</g>\n",
       "<!-- 1&#45;&gt;2 -->\n",
       "<g id=\"edge2\" class=\"edge\">\n",
       "<title>1&#45;&gt;2</title>\n",
       "<path fill=\"none\" stroke=\"#000000\" d=\"M75,-359.8314C75,-352.131 75,-342.9743 75,-334.4166\"/>\n",
       "<polygon fill=\"#000000\" stroke=\"#000000\" points=\"78.5001,-334.4132 75,-324.4133 71.5001,-334.4133 78.5001,-334.4132\"/>\n",
       "</g>\n",
       "<!-- 5 -->\n",
       "<g id=\"node4\" class=\"node\">\n",
       "<title>5</title>\n",
       "<polygon fill=\"#b2dfee\" stroke=\"#b2dfee\" points=\"144,-252 6,-252 6,-216 144,-216 144,-252\"/>\n",
       "<text text-anchor=\"middle\" x=\"75\" y=\"-230.3\" font-family=\"Times,serif\" font-size=\"14.00\" fill=\"#000000\">GlobalAvgPool2D</text>\n",
       "</g>\n",
       "<!-- 2&#45;&gt;5 -->\n",
       "<g id=\"edge3\" class=\"edge\">\n",
       "<title>2&#45;&gt;5</title>\n",
       "<path fill=\"none\" stroke=\"#000000\" d=\"M75,-287.8314C75,-280.131 75,-270.9743 75,-262.4166\"/>\n",
       "<polygon fill=\"#000000\" stroke=\"#000000\" points=\"78.5001,-262.4132 75,-252.4133 71.5001,-262.4133 78.5001,-262.4132\"/>\n",
       "</g>\n",
       "<!-- 6 -->\n",
       "<g id=\"node5\" class=\"node\">\n",
       "<title>6</title>\n",
       "<polygon fill=\"#b2dfee\" stroke=\"#b2dfee\" points=\"108,-180 42,-180 42,-144 108,-144 108,-180\"/>\n",
       "<text text-anchor=\"middle\" x=\"75\" y=\"-158.3\" font-family=\"Times,serif\" font-size=\"14.00\" fill=\"#000000\">Flatten</text>\n",
       "</g>\n",
       "<!-- 5&#45;&gt;6 -->\n",
       "<g id=\"edge4\" class=\"edge\">\n",
       "<title>5&#45;&gt;6</title>\n",
       "<path fill=\"none\" stroke=\"#000000\" d=\"M75,-215.8314C75,-208.131 75,-198.9743 75,-190.4166\"/>\n",
       "<polygon fill=\"#000000\" stroke=\"#000000\" points=\"78.5001,-190.4132 75,-180.4133 71.5001,-190.4133 78.5001,-190.4132\"/>\n",
       "</g>\n",
       "<!-- 7 -->\n",
       "<g id=\"node6\" class=\"node\">\n",
       "<title>7</title>\n",
       "<polygon fill=\"#b2dfee\" stroke=\"#b2dfee\" points=\"118.5,-108 31.5,-108 31.5,-72 118.5,-72 118.5,-108\"/>\n",
       "<text text-anchor=\"middle\" x=\"75\" y=\"-86.3\" font-family=\"Times,serif\" font-size=\"14.00\" fill=\"#000000\">Activation</text>\n",
       "</g>\n",
       "<!-- 6&#45;&gt;7 -->\n",
       "<g id=\"edge5\" class=\"edge\">\n",
       "<title>6&#45;&gt;7</title>\n",
       "<path fill=\"none\" stroke=\"#000000\" d=\"M75,-143.8314C75,-136.131 75,-126.9743 75,-118.4166\"/>\n",
       "<polygon fill=\"#000000\" stroke=\"#000000\" points=\"78.5001,-118.4132 75,-108.4133 71.5001,-118.4133 78.5001,-118.4132\"/>\n",
       "</g>\n",
       "<!-- 8 -->\n",
       "<g id=\"node7\" class=\"node\">\n",
       "<title>8</title>\n",
       "<polygon fill=\"#b2dfee\" stroke=\"#b2dfee\" points=\"106,-36 44,-36 44,0 106,0 106,-36\"/>\n",
       "<text text-anchor=\"middle\" x=\"75\" y=\"-14.3\" font-family=\"Times,serif\" font-size=\"14.00\" fill=\"#000000\">Dense</text>\n",
       "</g>\n",
       "<!-- 7&#45;&gt;8 -->\n",
       "<g id=\"edge6\" class=\"edge\">\n",
       "<title>7&#45;&gt;8</title>\n",
       "<path fill=\"none\" stroke=\"#000000\" d=\"M75,-71.8314C75,-64.131 75,-54.9743 75,-46.4166\"/>\n",
       "<polygon fill=\"#000000\" stroke=\"#000000\" points=\"78.5001,-46.4132 75,-36.4133 71.5001,-46.4133 78.5001,-46.4132\"/>\n",
       "</g>\n",
       "</g>\n",
       "</svg>\n"
      ],
      "text/plain": [
       "<graphviz.dot.Digraph at 0x15548c049950>"
      ]
     },
     "execution_count": 16,
     "metadata": {},
     "output_type": "execute_result"
    }
   ],
   "source": [
    "mynet.graph"
   ]
  },
  {
   "cell_type": "code",
   "execution_count": null,
   "metadata": {},
   "outputs": [],
   "source": []
  },
  {
   "cell_type": "code",
   "execution_count": 17,
   "metadata": {},
   "outputs": [
    {
     "ename": "AssertionError",
     "evalue": "",
     "output_type": "error",
     "traceback": [
      "\u001b[0;31m---------------------------------------------------------------------------\u001b[0m",
      "\u001b[0;31mAssertionError\u001b[0m                            Traceback (most recent call last)",
      "\u001b[0;32m<ipython-input-17-8c34141ab79e>\u001b[0m in \u001b[0;36m<module>\u001b[0;34m\u001b[0m\n\u001b[0;32m----> 1\u001b[0;31m \u001b[0mmynet\u001b[0m\u001b[0;34m.\u001b[0m\u001b[0mexport\u001b[0m\u001b[0;34m(\u001b[0m\u001b[0;34m'enas'\u001b[0m\u001b[0;34m)\u001b[0m\u001b[0;34m\u001b[0m\u001b[0;34m\u001b[0m\u001b[0m\n\u001b[0m",
      "\u001b[0;32m~/anaconda6/lib/python3.7/site-packages/mxnet/gluon/block.py\u001b[0m in \u001b[0;36mexport\u001b[0;34m(self, path, epoch, remove_amp_cast)\u001b[0m\n\u001b[1;32m    903\u001b[0m                 \u001b[0marg_dict\u001b[0m\u001b[0;34m[\u001b[0m\u001b[0;34m'arg:%s'\u001b[0m\u001b[0;34m%\u001b[0m\u001b[0mname\u001b[0m\u001b[0;34m]\u001b[0m \u001b[0;34m=\u001b[0m \u001b[0mparam\u001b[0m\u001b[0;34m.\u001b[0m\u001b[0m_reduce\u001b[0m\u001b[0;34m(\u001b[0m\u001b[0;34m)\u001b[0m\u001b[0;34m\u001b[0m\u001b[0;34m\u001b[0m\u001b[0m\n\u001b[1;32m    904\u001b[0m             \u001b[0;32melse\u001b[0m\u001b[0;34m:\u001b[0m\u001b[0;34m\u001b[0m\u001b[0;34m\u001b[0m\u001b[0m\n\u001b[0;32m--> 905\u001b[0;31m                 \u001b[0;32massert\u001b[0m \u001b[0mname\u001b[0m \u001b[0;32min\u001b[0m \u001b[0maux_names\u001b[0m\u001b[0;34m\u001b[0m\u001b[0;34m\u001b[0m\u001b[0m\n\u001b[0m\u001b[1;32m    906\u001b[0m                 \u001b[0marg_dict\u001b[0m\u001b[0;34m[\u001b[0m\u001b[0;34m'aux:%s'\u001b[0m\u001b[0;34m%\u001b[0m\u001b[0mname\u001b[0m\u001b[0;34m]\u001b[0m \u001b[0;34m=\u001b[0m \u001b[0mparam\u001b[0m\u001b[0;34m.\u001b[0m\u001b[0m_reduce\u001b[0m\u001b[0;34m(\u001b[0m\u001b[0;34m)\u001b[0m\u001b[0;34m\u001b[0m\u001b[0;34m\u001b[0m\u001b[0m\n\u001b[1;32m    907\u001b[0m         \u001b[0mndarray\u001b[0m\u001b[0;34m.\u001b[0m\u001b[0msave\u001b[0m\u001b[0;34m(\u001b[0m\u001b[0;34m'%s-%04d.params'\u001b[0m\u001b[0;34m%\u001b[0m\u001b[0;34m(\u001b[0m\u001b[0mpath\u001b[0m\u001b[0;34m,\u001b[0m \u001b[0mepoch\u001b[0m\u001b[0;34m)\u001b[0m\u001b[0;34m,\u001b[0m \u001b[0marg_dict\u001b[0m\u001b[0;34m)\u001b[0m\u001b[0;34m\u001b[0m\u001b[0;34m\u001b[0m\u001b[0m\n",
      "\u001b[0;31mAssertionError\u001b[0m: "
     ]
    }
   ],
   "source": [
    "mynet.export('enas')"
   ]
  },
  {
   "cell_type": "code",
   "execution_count": null,
   "metadata": {},
   "outputs": [],
   "source": []
  },
  {
   "cell_type": "code",
   "execution_count": 18,
   "metadata": {},
   "outputs": [
    {
     "ename": "MXNetError",
     "evalue": "[16:25:42] src/io/local_filesys.cc:209: Check failed: allow_null:  LocalFileSystem::Open \"enas.params\": No such file or directory\nStack trace:\n  [bt] (0) /trinity/home/k.chertoganov/anaconda6/lib/python3.7/site-packages/mxnet/libmxnet.so(+0x2ea6de8) [0x1554f52f4de8]\n  [bt] (1) /trinity/home/k.chertoganov/anaconda6/lib/python3.7/site-packages/mxnet/libmxnet.so(+0x2e9e9ba) [0x1554f52ec9ba]\n  [bt] (2) /trinity/home/k.chertoganov/anaconda6/lib/python3.7/site-packages/mxnet/libmxnet.so(MXNDArrayLoad+0x23d) [0x1554f497b5ed]\n  [bt] (3) /trinity/home/k.chertoganov/anaconda6/lib/python3.7/lib-dynload/../../libffi.so.6(ffi_call_unix64+0x4c) [0x15554c464ec0]\n  [bt] (4) /trinity/home/k.chertoganov/anaconda6/lib/python3.7/lib-dynload/../../libffi.so.6(ffi_call+0x22d) [0x15554c46487d]\n  [bt] (5) /trinity/home/k.chertoganov/anaconda6/lib/python3.7/lib-dynload/_ctypes.cpython-37m-x86_64-linux-gnu.so(_ctypes_callproc+0x2ce) [0x15554c67a1de]\n  [bt] (6) /trinity/home/k.chertoganov/anaconda6/lib/python3.7/lib-dynload/_ctypes.cpython-37m-x86_64-linux-gnu.so(+0x12c14) [0x15554c67ac14]\n  [bt] (7) /trinity/home/k.chertoganov/anaconda6/bin/python(_PyObject_FastCallKeywords+0x48b) [0x5555556ca18b]\n  [bt] (8) /trinity/home/k.chertoganov/anaconda6/bin/python(_PyEval_EvalFrameDefault+0x52cf) [0x555555719e8f]\n\n",
     "output_type": "error",
     "traceback": [
      "\u001b[0;31m---------------------------------------------------------------------------\u001b[0m",
      "\u001b[0;31mMXNetError\u001b[0m                                Traceback (most recent call last)",
      "\u001b[0;32m<ipython-input-18-14db762c2ed8>\u001b[0m in \u001b[0;36m<module>\u001b[0;34m\u001b[0m\n\u001b[0;32m----> 1\u001b[0;31m \u001b[0mmynet_static\u001b[0m \u001b[0;34m=\u001b[0m \u001b[0mmx\u001b[0m\u001b[0;34m.\u001b[0m\u001b[0mgluon\u001b[0m\u001b[0;34m.\u001b[0m\u001b[0mnn\u001b[0m\u001b[0;34m.\u001b[0m\u001b[0mSymbolBlock\u001b[0m\u001b[0;34m.\u001b[0m\u001b[0mimports\u001b[0m\u001b[0;34m(\u001b[0m\u001b[0;34m\"enas-symbol.json\"\u001b[0m\u001b[0;34m,\u001b[0m \u001b[0;34m[\u001b[0m\u001b[0;34m'data'\u001b[0m\u001b[0;34m]\u001b[0m\u001b[0;34m,\u001b[0m \u001b[0;34m\"enas.params\"\u001b[0m\u001b[0;34m)\u001b[0m\u001b[0;34m\u001b[0m\u001b[0;34m\u001b[0m\u001b[0m\n\u001b[0m\u001b[1;32m      2\u001b[0m \u001b[0my\u001b[0m \u001b[0;34m=\u001b[0m \u001b[0mmynet_static\u001b[0m\u001b[0;34m(\u001b[0m\u001b[0mmx\u001b[0m\u001b[0;34m.\u001b[0m\u001b[0mnd\u001b[0m\u001b[0;34m.\u001b[0m\u001b[0mzeros\u001b[0m\u001b[0;34m(\u001b[0m\u001b[0;34m(\u001b[0m\u001b[0;36m1\u001b[0m\u001b[0;34m,\u001b[0m \u001b[0;36m1\u001b[0m\u001b[0;34m,\u001b[0m \u001b[0;36m28\u001b[0m\u001b[0;34m,\u001b[0m \u001b[0;36m28\u001b[0m\u001b[0;34m)\u001b[0m\u001b[0;34m)\u001b[0m\u001b[0;34m)\u001b[0m\u001b[0;34m\u001b[0m\u001b[0;34m\u001b[0m\u001b[0m\n\u001b[1;32m      3\u001b[0m \u001b[0mprint\u001b[0m\u001b[0;34m(\u001b[0m\u001b[0my\u001b[0m\u001b[0;34m.\u001b[0m\u001b[0mshape\u001b[0m\u001b[0;34m)\u001b[0m\u001b[0;34m\u001b[0m\u001b[0;34m\u001b[0m\u001b[0m\n",
      "\u001b[0;32m~/anaconda6/lib/python3.7/site-packages/mxnet/gluon/block.py\u001b[0m in \u001b[0;36mimports\u001b[0;34m(symbol_file, input_names, param_file, ctx)\u001b[0m\n\u001b[1;32m   1035\u001b[0m         \u001b[0mret\u001b[0m \u001b[0;34m=\u001b[0m \u001b[0mSymbolBlock\u001b[0m\u001b[0;34m(\u001b[0m\u001b[0msym\u001b[0m\u001b[0;34m,\u001b[0m \u001b[0minputs\u001b[0m\u001b[0;34m)\u001b[0m\u001b[0;34m\u001b[0m\u001b[0;34m\u001b[0m\u001b[0m\n\u001b[1;32m   1036\u001b[0m         \u001b[0;32mif\u001b[0m \u001b[0mparam_file\u001b[0m \u001b[0;32mis\u001b[0m \u001b[0;32mnot\u001b[0m \u001b[0;32mNone\u001b[0m\u001b[0;34m:\u001b[0m\u001b[0;34m\u001b[0m\u001b[0;34m\u001b[0m\u001b[0m\n\u001b[0;32m-> 1037\u001b[0;31m             \u001b[0mret\u001b[0m\u001b[0;34m.\u001b[0m\u001b[0mcollect_params\u001b[0m\u001b[0;34m(\u001b[0m\u001b[0;34m)\u001b[0m\u001b[0;34m.\u001b[0m\u001b[0mload\u001b[0m\u001b[0;34m(\u001b[0m\u001b[0mparam_file\u001b[0m\u001b[0;34m,\u001b[0m \u001b[0mctx\u001b[0m\u001b[0;34m=\u001b[0m\u001b[0mctx\u001b[0m\u001b[0;34m,\u001b[0m \u001b[0mcast_dtype\u001b[0m\u001b[0;34m=\u001b[0m\u001b[0;32mTrue\u001b[0m\u001b[0;34m,\u001b[0m \u001b[0mdtype_source\u001b[0m\u001b[0;34m=\u001b[0m\u001b[0;34m'saved'\u001b[0m\u001b[0;34m)\u001b[0m\u001b[0;34m\u001b[0m\u001b[0;34m\u001b[0m\u001b[0m\n\u001b[0m\u001b[1;32m   1038\u001b[0m         \u001b[0;32mreturn\u001b[0m \u001b[0mret\u001b[0m\u001b[0;34m\u001b[0m\u001b[0;34m\u001b[0m\u001b[0m\n\u001b[1;32m   1039\u001b[0m \u001b[0;34m\u001b[0m\u001b[0m\n",
      "\u001b[0;32m~/anaconda6/lib/python3.7/site-packages/mxnet/gluon/parameter.py\u001b[0m in \u001b[0;36mload\u001b[0;34m(self, filename, ctx, allow_missing, ignore_extra, restore_prefix, cast_dtype, dtype_source)\u001b[0m\n\u001b[1;32m    957\u001b[0m                     \u001b[0;34m\"with '%s'\"\u001b[0m\u001b[0;34m%\u001b[0m\u001b[0;34m(\u001b[0m\u001b[0mrestore_prefix\u001b[0m\u001b[0;34m,\u001b[0m \u001b[0mname\u001b[0m\u001b[0;34m,\u001b[0m \u001b[0mrestore_prefix\u001b[0m\u001b[0;34m)\u001b[0m\u001b[0;34m\u001b[0m\u001b[0;34m\u001b[0m\u001b[0m\n\u001b[1;32m    958\u001b[0m         \u001b[0mlprefix\u001b[0m \u001b[0;34m=\u001b[0m \u001b[0mlen\u001b[0m\u001b[0;34m(\u001b[0m\u001b[0mrestore_prefix\u001b[0m\u001b[0;34m)\u001b[0m\u001b[0;34m\u001b[0m\u001b[0;34m\u001b[0m\u001b[0m\n\u001b[0;32m--> 959\u001b[0;31m         \u001b[0mndarray_load\u001b[0m \u001b[0;34m=\u001b[0m \u001b[0mndarray\u001b[0m\u001b[0;34m.\u001b[0m\u001b[0mload\u001b[0m\u001b[0;34m(\u001b[0m\u001b[0mfilename\u001b[0m\u001b[0;34m)\u001b[0m\u001b[0;34m\u001b[0m\u001b[0;34m\u001b[0m\u001b[0m\n\u001b[0m\u001b[1;32m    960\u001b[0m         loaded = [(k[4:] if k.startswith('arg:') or k.startswith('aux:') else k, v) \\\n\u001b[1;32m    961\u001b[0m                   for k, v in ndarray_load.items()] if isinstance(ndarray_load, dict) else ndarray_load\n",
      "\u001b[0;32m~/anaconda6/lib/python3.7/site-packages/mxnet/ndarray/utils.py\u001b[0m in \u001b[0;36mload\u001b[0;34m(fname)\u001b[0m\n\u001b[1;32m    173\u001b[0m                                   \u001b[0mctypes\u001b[0m\u001b[0;34m.\u001b[0m\u001b[0mbyref\u001b[0m\u001b[0;34m(\u001b[0m\u001b[0mhandles\u001b[0m\u001b[0;34m)\u001b[0m\u001b[0;34m,\u001b[0m\u001b[0;34m\u001b[0m\u001b[0;34m\u001b[0m\u001b[0m\n\u001b[1;32m    174\u001b[0m                                   \u001b[0mctypes\u001b[0m\u001b[0;34m.\u001b[0m\u001b[0mbyref\u001b[0m\u001b[0;34m(\u001b[0m\u001b[0mout_name_size\u001b[0m\u001b[0;34m)\u001b[0m\u001b[0;34m,\u001b[0m\u001b[0;34m\u001b[0m\u001b[0;34m\u001b[0m\u001b[0m\n\u001b[0;32m--> 175\u001b[0;31m                                   ctypes.byref(names)))\n\u001b[0m\u001b[1;32m    176\u001b[0m     \u001b[0;32mif\u001b[0m \u001b[0mout_name_size\u001b[0m\u001b[0;34m.\u001b[0m\u001b[0mvalue\u001b[0m \u001b[0;34m==\u001b[0m \u001b[0;36m0\u001b[0m\u001b[0;34m:\u001b[0m\u001b[0;34m\u001b[0m\u001b[0;34m\u001b[0m\u001b[0m\n\u001b[1;32m    177\u001b[0m         \u001b[0;32mreturn\u001b[0m \u001b[0;34m[\u001b[0m\u001b[0m_ndarray_cls\u001b[0m\u001b[0;34m(\u001b[0m\u001b[0mNDArrayHandle\u001b[0m\u001b[0;34m(\u001b[0m\u001b[0mhandles\u001b[0m\u001b[0;34m[\u001b[0m\u001b[0mi\u001b[0m\u001b[0;34m]\u001b[0m\u001b[0;34m)\u001b[0m\u001b[0;34m)\u001b[0m \u001b[0;32mfor\u001b[0m \u001b[0mi\u001b[0m \u001b[0;32min\u001b[0m \u001b[0mrange\u001b[0m\u001b[0;34m(\u001b[0m\u001b[0mout_size\u001b[0m\u001b[0;34m.\u001b[0m\u001b[0mvalue\u001b[0m\u001b[0;34m)\u001b[0m\u001b[0;34m]\u001b[0m\u001b[0;34m\u001b[0m\u001b[0;34m\u001b[0m\u001b[0m\n",
      "\u001b[0;32m~/anaconda6/lib/python3.7/site-packages/mxnet/base.py\u001b[0m in \u001b[0;36mcheck_call\u001b[0;34m(ret)\u001b[0m\n\u001b[1;32m    251\u001b[0m     \"\"\"\n\u001b[1;32m    252\u001b[0m     \u001b[0;32mif\u001b[0m \u001b[0mret\u001b[0m \u001b[0;34m!=\u001b[0m \u001b[0;36m0\u001b[0m\u001b[0;34m:\u001b[0m\u001b[0;34m\u001b[0m\u001b[0;34m\u001b[0m\u001b[0m\n\u001b[0;32m--> 253\u001b[0;31m         \u001b[0;32mraise\u001b[0m \u001b[0mMXNetError\u001b[0m\u001b[0;34m(\u001b[0m\u001b[0mpy_str\u001b[0m\u001b[0;34m(\u001b[0m\u001b[0m_LIB\u001b[0m\u001b[0;34m.\u001b[0m\u001b[0mMXGetLastError\u001b[0m\u001b[0;34m(\u001b[0m\u001b[0;34m)\u001b[0m\u001b[0;34m)\u001b[0m\u001b[0;34m)\u001b[0m\u001b[0;34m\u001b[0m\u001b[0;34m\u001b[0m\u001b[0m\n\u001b[0m\u001b[1;32m    254\u001b[0m \u001b[0;34m\u001b[0m\u001b[0m\n\u001b[1;32m    255\u001b[0m \u001b[0;34m\u001b[0m\u001b[0m\n",
      "\u001b[0;31mMXNetError\u001b[0m: [16:25:42] src/io/local_filesys.cc:209: Check failed: allow_null:  LocalFileSystem::Open \"enas.params\": No such file or directory\nStack trace:\n  [bt] (0) /trinity/home/k.chertoganov/anaconda6/lib/python3.7/site-packages/mxnet/libmxnet.so(+0x2ea6de8) [0x1554f52f4de8]\n  [bt] (1) /trinity/home/k.chertoganov/anaconda6/lib/python3.7/site-packages/mxnet/libmxnet.so(+0x2e9e9ba) [0x1554f52ec9ba]\n  [bt] (2) /trinity/home/k.chertoganov/anaconda6/lib/python3.7/site-packages/mxnet/libmxnet.so(MXNDArrayLoad+0x23d) [0x1554f497b5ed]\n  [bt] (3) /trinity/home/k.chertoganov/anaconda6/lib/python3.7/lib-dynload/../../libffi.so.6(ffi_call_unix64+0x4c) [0x15554c464ec0]\n  [bt] (4) /trinity/home/k.chertoganov/anaconda6/lib/python3.7/lib-dynload/../../libffi.so.6(ffi_call+0x22d) [0x15554c46487d]\n  [bt] (5) /trinity/home/k.chertoganov/anaconda6/lib/python3.7/lib-dynload/_ctypes.cpython-37m-x86_64-linux-gnu.so(_ctypes_callproc+0x2ce) [0x15554c67a1de]\n  [bt] (6) /trinity/home/k.chertoganov/anaconda6/lib/python3.7/lib-dynload/_ctypes.cpython-37m-x86_64-linux-gnu.so(+0x12c14) [0x15554c67ac14]\n  [bt] (7) /trinity/home/k.chertoganov/anaconda6/bin/python(_PyObject_FastCallKeywords+0x48b) [0x5555556ca18b]\n  [bt] (8) /trinity/home/k.chertoganov/anaconda6/bin/python(_PyEval_EvalFrameDefault+0x52cf) [0x555555719e8f]\n\n"
     ]
    }
   ],
   "source": [
    "mynet_static = mx.gluon.nn.SymbolBlock.imports(\"enas-symbol.json\", ['data'], \"enas.params\")\n",
    "y = mynet_static(mx.nd.zeros((1, 1, 28, 28)))\n",
    "print(y.shape)"
   ]
  },
  {
   "cell_type": "code",
   "execution_count": null,
   "metadata": {},
   "outputs": [],
   "source": []
  },
  {
   "cell_type": "code",
   "execution_count": null,
   "metadata": {},
   "outputs": [],
   "source": []
  },
  {
   "cell_type": "code",
   "execution_count": null,
   "metadata": {},
   "outputs": [],
   "source": []
  },
  {
   "cell_type": "code",
   "execution_count": null,
   "metadata": {},
   "outputs": [],
   "source": []
  }
 ],
 "metadata": {
  "kernelspec": {
   "display_name": "Python 3",
   "language": "python",
   "name": "python3"
  },
  "language_info": {
   "codemirror_mode": {
    "name": "ipython",
    "version": 3
   },
   "file_extension": ".py",
   "mimetype": "text/x-python",
   "name": "python",
   "nbconvert_exporter": "python",
   "pygments_lexer": "ipython3",
   "version": "3.7.6"
  }
 },
 "nbformat": 4,
 "nbformat_minor": 4
}
